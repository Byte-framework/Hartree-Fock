{
  "nbformat": 4,
  "nbformat_minor": 0,
  "metadata": {
    "colab": {
      "provenance": [],
      "include_colab_link": true
    },
    "kernelspec": {
      "name": "python3",
      "display_name": "Python 3"
    },
    "language_info": {
      "name": "python"
    }
  },
  "cells": [
    {
      "cell_type": "markdown",
      "metadata": {
        "id": "view-in-github",
        "colab_type": "text"
      },
      "source": [
        "<a href=\"https://colab.research.google.com/github/Byte-framework/Hartree-Fock/blob/main/Hartree_Fock.ipynb\" target=\"_parent\"><img src=\"https://colab.research.google.com/assets/colab-badge.svg\" alt=\"Open In Colab\"/></a>"
      ]
    },
    {
      "cell_type": "code",
      "source": [
        "import numpy as np\n",
        "import math\n"
      ],
      "metadata": {
        "id": "vmTOfq7vUrZn"
      },
      "execution_count": null,
      "outputs": []
    },
    {
      "cell_type": "markdown",
      "source": [
        "#Step 1\n",
        "\n"
      ],
      "metadata": {
        "id": "vLHpivKziTuB"
      }
    },
    {
      "cell_type": "code",
      "source": [
        "# Mounting Drive\n",
        "from google.colab import drive\n",
        "drive.mount('/content/drive')"
      ],
      "metadata": {
        "colab": {
          "base_uri": "https://localhost:8080/"
        },
        "id": "B4EyVjbVEpWe",
        "outputId": "f9d06687-6276-42d8-beaa-c5ae37de3eb3"
      },
      "execution_count": null,
      "outputs": [
        {
          "output_type": "stream",
          "name": "stdout",
          "text": [
            "Mounted at /content/drive\n"
          ]
        }
      ]
    },
    {
      "cell_type": "code",
      "source": [
        "# Reading Nuclear Repulsion Energy\n",
        "fenuc = open(\"/content/drive/MyDrive/Hartree Fock/enuc.dat\",\"r\")\n"
      ],
      "metadata": {
        "id": "NYCcrr3FWt4J"
      },
      "execution_count": null,
      "outputs": []
    },
    {
      "cell_type": "markdown",
      "source": [
        "#Step 2\n",
        "Done"
      ],
      "metadata": {
        "id": "_V4SZPyCXHwa"
      }
    },
    {
      "cell_type": "code",
      "source": [
        "# Reading Overlap Matrix,Kinetic Energy and Nuclear attraction integrals; forming the core Hamiltonian\n",
        "\n",
        "fs = open(\"/content/drive/MyDrive/Hartree Fock/s.dat\",\"r\")\n",
        "fke = open(\"/content/drive/MyDrive/Hartree Fock/ke.dat\",\"r\")\n",
        "fv = open(\"/content/drive/MyDrive/Hartree Fock/pe_v.dat\",\"r\")\n",
        "\n",
        "hc = np.zeros((7,7))\n",
        "\n",
        "for k in fke:\n",
        "  kl=k.split()\n",
        "  hc[int(kl[0])-1][int(kl[1])-1] = float(kl[2])\n",
        "  if int(kl[0])!=int(kl[1]):\n",
        "    hc[int(kl[1])-1][int(kl[0])-1] = float(kl[2])\n",
        "\n",
        "for p in fv:\n",
        "  pl=p.split()\n",
        "  hc[int(pl[0])-1][int(pl[1])-1] += float(pl[2])\n",
        "  if int(pl[0])!=int(pl[1]):\n",
        "    hc[int(pl[1])-1][int(pl[0])-1] += float(pl[2])\n",
        "\n",
        "#print(hc)\n",
        "\n",
        "\n",
        "\n",
        "\n",
        "\n",
        "\n",
        "\n",
        "\n"
      ],
      "metadata": {
        "id": "6NxhJqYpXGyA"
      },
      "execution_count": null,
      "outputs": []
    },
    {
      "cell_type": "markdown",
      "source": [
        "#Step 3\n",
        "Used one big array & also implemented a dictionary.\n",
        "\n",
        "Done"
      ],
      "metadata": {
        "id": "KcQsrHM3--5v"
      }
    },
    {
      "cell_type": "code",
      "source": [
        "# Reading the two electron integral and storing them in a 1D array and in a dictionary\n",
        "\n",
        "ftei = open(\"/content/drive/MyDrive/Hartree Fock/two_integ.dat\",\"r\")\n",
        "tei = np.zeros((406))\n",
        "ti = dict()\n",
        "for t in ftei:\n",
        "  tl=t.split()\n",
        "  for i in range(4):\n",
        "    tl[i] = int(tl[i])\n",
        "  tl[4] = float(tl[4])\n",
        "  b = int(tl[0]-1)*(int(tl[0]-1) + 1)/2 + int(tl[1]-1)\n",
        "  c = int(tl[2]-1)*(int(tl[2]-1) + 1)/2 + int(tl[3]-1)\n",
        "  if b >= c:\n",
        "    a = int( b*(b+1)/2 + c )\n",
        "  else :\n",
        "    a = int( c*(c+1)/2 + b)\n",
        "  #print (a)\n",
        "  ti[a] = tl[4]\n",
        "  tei[a] = tl[4]\n",
        "\n",
        "#print(ti)\n",
        "#print(tei)\n",
        "#print(ti[54])\n"
      ],
      "metadata": {
        "id": "d1YeDe0j_EtP"
      },
      "execution_count": null,
      "outputs": []
    },
    {
      "cell_type": "markdown",
      "source": [
        "#Step 4\n",
        "Done"
      ],
      "metadata": {
        "id": "lwmqmx602D48"
      }
    },
    {
      "cell_type": "code",
      "source": [
        "# Building the Orthogonalization Matrix\n",
        "\n",
        "#fs = open(\"/content/drive/MyDrive/Hartree Fock/s.dat\",\"r\")\n",
        "\n",
        "# Building Overlap Matrix S by reading the file\n",
        "s = np.zeros((7,7))\n",
        "for a in fs:\n",
        "  sl=a.split()\n",
        "  s[int(sl[0])-1][int(sl[1])-1] = float(sl[2])\n",
        "  if int(sl[0])!=int(sl[1]):\n",
        "    s[int(sl[1])-1][int(sl[0])-1] = float(sl[2])\n",
        "  #print(float(sl[2]))\n",
        "#print(s)\n",
        "\n",
        "seval,seigv = np.linalg.eigh(s)   # Finding the eigenvalues and eigenvectors of Overlap Matrix S\n",
        "\n",
        "#print(seval)\n",
        "#print(seigv)\n",
        "\n",
        "s_diag_irt = np.zeros((7,7))\n",
        "for i in range(7):\n",
        "  s_diag_irt[i][i] = 1/(math.sqrt(seval[i]))  # Building s^(-1/2); s being the diagonalized matrix of S\n",
        "\n",
        "s_inv_half = np.zeros((7,7))\n",
        "a = np.matmul(s_diag_irt,seigv.transpose())\n",
        "s_inv_half = np.matmul(seigv,a)               # Building the Orthogonalization Matrix S^(-1/2)\n",
        "\n",
        "#print(s_inv_half)\n",
        "\"\"\"\n",
        "for i in range(7):\n",
        "  for j in range(7):\n",
        "    print(s_inv_half[i][j],end = \" \")\n",
        "  print()\n",
        "\"\"\"\n",
        "\n",
        "\n",
        "\n",
        "\n",
        "\n",
        "\n",
        "\n",
        "\n",
        "\n"
      ],
      "metadata": {
        "colab": {
          "base_uri": "https://localhost:8080/"
        },
        "id": "-sey7E322GGF",
        "outputId": "e72ad0cb-df2f-4ff2-cbf1-92096a259ed7"
      },
      "execution_count": null,
      "outputs": [
        {
          "output_type": "execute_result",
          "data": {
            "text/plain": [
              "'\\nfor i in range(7):\\n  for j in range(7):\\n    print(s_inv_half[i][j],end = \" \")\\n  print()\\n'"
            ],
            "application/vnd.google.colaboratory.intrinsic+json": {
              "type": "string"
            }
          },
          "metadata": {},
          "execution_count": 6
        }
      ]
    },
    {
      "cell_type": "markdown",
      "source": [
        "#Step 5\n",
        "Done"
      ],
      "metadata": {
        "id": "HZ0_4KNhgpdw"
      }
    },
    {
      "cell_type": "code",
      "source": [
        "# Building the initial guess density matrix\n",
        "\n",
        "fprime = np.zeros((7,7))\n",
        "a = np.matmul(hc,s_inv_half)\n",
        "fprime = np.matmul(s_inv_half.transpose(),a)   # Building the initial (guess) fock matrix\n",
        "print('Fock Matrix:')\n",
        "print(fprime)\n",
        "\n",
        "orb_eng,cprime= np.linalg.eigh(fprime)   # cprime (the coefficients) are the coefficients of the eigenvectors (C0 prime).\n",
        "c0 = np.zeros((7,7))\n",
        "c0 = np.matmul(s_inv_half,cprime)        # Transforming the eigenvectors into the original (non-orthogonal) AO basis\n",
        "\n",
        "#print('cprime:')\n",
        "#print(cprime)\n",
        "#print('c0:')\n",
        "#print(c0)\n",
        "\n",
        "d = np.zeros((7,7))\n",
        "for i in range(7):\n",
        "  for j in range(7):\n",
        "    for k in range(5):             # k loops till range(5),because we're summing only over the occupied MOs.\n",
        "      d[i][j]+=c0[i][k]*c0[j][k]   # Building the density matrix using the occupied MOs\n",
        "\n",
        "#print('Density Matrix:')\n",
        "#print(d)\n",
        "\n",
        "\n"
      ],
      "metadata": {
        "colab": {
          "base_uri": "https://localhost:8080/"
        },
        "id": "Y0j0WDFugrqj",
        "outputId": "c09c7378-e1f2-4153-cc5e-602be230669d"
      },
      "execution_count": null,
      "outputs": [
        {
          "output_type": "stream",
          "name": "stdout",
          "text": [
            "Fock Matrix:\n",
            "[[-3.22545866e+01 -2.79149094e+00  6.04031500e-16  8.61098119e-03\n",
            "   1.90278865e-17 -1.81296650e-01 -1.81296650e-01]\n",
            " [-2.79149094e+00 -8.23688912e+00  2.90354845e-15 -2.28292573e-01\n",
            "  -2.22332556e-16 -3.85798683e-01 -3.85798683e-01]\n",
            " [ 5.98320015e-16  2.96162389e-15 -7.54288904e+00 -3.31601039e-16\n",
            "  -3.79137711e-16 -1.13212060e-01  1.13212060e-01]\n",
            " [ 8.61098119e-03 -2.28292573e-01 -3.35721763e-16 -7.45702949e+00\n",
            "  -1.18462559e-16 -1.10219600e-01 -1.10219600e-01]\n",
            " [ 1.90278865e-17 -2.22332556e-16 -3.79137711e-16 -1.18462559e-16\n",
            "  -7.34714487e+00  3.30556198e-16  7.36569710e-16]\n",
            " [-1.81296650e-01 -3.85798683e-01 -1.13212060e-01 -1.10219600e-01\n",
            "   3.30556198e-16 -4.03295470e+00 -4.46465985e-02]\n",
            " [-1.81296650e-01 -3.85798683e-01  1.13212060e-01 -1.10219600e-01\n",
            "   7.36569710e-16 -4.46465985e-02 -4.03295470e+00]]\n"
          ]
        }
      ]
    },
    {
      "cell_type": "markdown",
      "source": [
        "#Step 6\n",
        "Done."
      ],
      "metadata": {
        "id": "8wVPaqH69Ig3"
      }
    },
    {
      "cell_type": "code",
      "source": [
        "# Computing the initial SCF Energy\n",
        "\n",
        "e_elec0 = 0.0\n",
        "\n",
        "for i in range(7):\n",
        "  for j in range(7):\n",
        "    e_elec0 += d[i][j]*(hc[i][j]) + d[i][j]*(hc[i][j])  # SCF electronic energy computed using the density matrix\n",
        "#print('e_elec0:',e_elec0)\n",
        "#fenuc = open(\"/content/drive/MyDrive/Hartree Fock/enuc.dat\",\"r\")\n",
        "enuc = float(fenuc.read())\n",
        "#print('enuc:',enuc)\n",
        "e_tot0 = e_elec0 + enuc       # Total energy = Sum of the electronic energy and the nuclear repulsion energy\n",
        "#print(e_tot0)\n"
      ],
      "metadata": {
        "id": "4dWAbotg9M0s"
      },
      "execution_count": null,
      "outputs": []
    },
    {
      "cell_type": "markdown",
      "source": [
        "#Step 7\n",
        "Done. But try accessing the two electron integrals with dictionary (key error was being shown)"
      ],
      "metadata": {
        "id": "w04poQs6-6wG"
      }
    },
    {
      "cell_type": "code",
      "source": [
        "# Computing the New Fock Matrix\n",
        "\n",
        "def index(a,b):           # Function to compute the compound indices\n",
        "  if a >= b:\n",
        "    return a*(a+1)/2 + b\n",
        "  else :\n",
        "    return b*(b+1)/2 + a\n",
        "\n",
        "def new_f(d,tei):\n",
        "    fnew = np.zeros((7,7))\n",
        "    for i in range(7):\n",
        "      for j in range(7):\n",
        "        fnew[i][j] = hc[i][j]\n",
        "        for k in range(7):\n",
        "          for l in range(7):\n",
        "            ij = index(i,j)\n",
        "            ik = index(i,k)\n",
        "            kl = index(k,l)\n",
        "            jl = index(j,l)\n",
        "            ijkl = int(index(ij,kl))\n",
        "            ikjl = int(index(ik,jl))\n",
        "            fnew[i][j] += d[k][l]*(2.0*tei[ijkl] - tei[ikjl])  # Building the new Fock matrix using previous iteration density\n",
        "\n",
        "    #print('New Fock Matrix:')\n",
        "    #print(fnew)\n",
        "    return fnew\n",
        "    #new_d(fnew)\n",
        "\n",
        "#fnew = new_f(d,tei)"
      ],
      "metadata": {
        "id": "cgkFDm8m-87j"
      },
      "execution_count": null,
      "outputs": []
    },
    {
      "cell_type": "markdown",
      "source": [
        "#Step 8\n",
        "Done ( via step 10 )"
      ],
      "metadata": {
        "id": "x3kL4rUXB5xA"
      }
    },
    {
      "cell_type": "code",
      "source": [
        "# Building the new density matrix\n",
        "def new_d(fnew):\n",
        "    a = np.matmul(fnew,s_inv_half)\n",
        "    fi = np.matmul(s_inv_half.transpose(),a)\n",
        "    #print('Fock Matrix (i):')\n",
        "    #print(fi)\n",
        "\n",
        "    orb_eng  , cprime= np.linalg.eigh(fi)   # cprime (the coefficients) is the coefficient of the eigenvector (C0 prime).\n",
        "    c0 = np.zeros((7,7))\n",
        "    c0 = np.matmul(s_inv_half,cprime)\n",
        "    \"\"\"\n",
        "    print('cprime:')\n",
        "    print(cprime)\n",
        "    print('c0:')\n",
        "    print(c0)\n",
        "    \"\"\"\n",
        "    di = np.zeros((7,7))\n",
        "    for i in range(7):\n",
        "      for j in range(7):\n",
        "        for k in range(5):\n",
        "          di[i][j]+=c0[i][k]*c0[j][k]     # Building current iteration density matrix\n",
        "\n",
        "    #print('Density Matrix:')\n",
        "    #print(di)\n",
        "    return di\n",
        "\n",
        "#di = new_d(fnew)\n",
        "\n",
        "\n",
        "\n"
      ],
      "metadata": {
        "id": "5ZFe3xlkB8jN"
      },
      "execution_count": null,
      "outputs": []
    },
    {
      "cell_type": "markdown",
      "source": [
        "#Step 9\n",
        "Done ( via step 10 )\n"
      ],
      "metadata": {
        "id": "djCcGDNdnuSj"
      }
    },
    {
      "cell_type": "code",
      "source": [
        "# Computing the new SCF Energy\n",
        "\n",
        "def new_energy(d,hc,fnew):\n",
        "    e_eleci = 0\n",
        "\n",
        "    for i in range(7):\n",
        "      for j in range(7):\n",
        "        e_eleci += d[i][j]*(hc[i][j] + fnew[i][j])  # Electronic energy of the ith iteration\n",
        "\n",
        "    fenuc = open(\"/content/drive/MyDrive/Hartree Fock/enuc.dat\",\"r\")\n",
        "    enuc = float(fenuc.read())\n",
        "\n",
        "    e_toti = e_eleci + enuc    # Total energy of the ith iteration\n",
        "    return e_toti , e_eleci\n",
        "#e_toti = new_energy(di,hc,fnew)"
      ],
      "metadata": {
        "id": "b-y3IWignv6Z"
      },
      "execution_count": null,
      "outputs": []
    },
    {
      "cell_type": "markdown",
      "source": [
        "#Step 10\n",
        "Done.\n"
      ],
      "metadata": {
        "id": "TnCApocEporL"
      }
    },
    {
      "cell_type": "code",
      "source": [
        "# Testing for Convergence\n",
        "\n",
        "e_toti_prev = e_tot0\n",
        "\n",
        "delta1 = 1e-12\n",
        "delta2 = 1e-11\n",
        "ctr = 0\n",
        "print(\"%s    %s            %s          %s        %s\" %('Iter','E(elec)','E(tot)','Delta(E)','RMS(D)'))\n",
        "#print('Iter     E(elec)           E(tot)           Delta(E)       RMS(D)')\n",
        "print(\"%2d %15.12f %15.12f\" %(ctr,e_elec0,e_tot0))\n",
        "while True :\n",
        "  fnew = new_f(d,tei)\n",
        "  di = new_d(fnew)\n",
        "  e_toti , e_eleci = new_energy(di,hc,fnew)\n",
        "\n",
        "  delE = e_toti - e_toti_prev\n",
        "  rmsd = 0\n",
        "  for i in range(7):\n",
        "    for j in range(7):\n",
        "      rmsd += (di[i][j] - d[i][j])*(di[i][j] - d[i][j])\n",
        "\n",
        "  rmsd = math.sqrt(rmsd)\n",
        "  ctr+=1\n",
        "  print(\"%2d %15.12f  %15.12f  %15.12f %13.12f\" %(ctr,e_eleci,e_toti,delE,rmsd))\n",
        "  if abs(delE) < delta1 and rmsd < delta2 :   # Checking the energy difference and root-mean-squared-difference for convergence\n",
        "      break\n",
        "  e_toti_prev = e_toti\n",
        "  d = di\n",
        "\n"
      ],
      "metadata": {
        "id": "YCEMxPTGptxO",
        "colab": {
          "base_uri": "https://localhost:8080/"
        },
        "outputId": "2cad5869-1d2b-4e1e-b38d-c112c1ab663b"
      },
      "execution_count": null,
      "outputs": [
        {
          "output_type": "stream",
          "name": "stdout",
          "text": [
            "Iter    E(elec)            E(tot)          Delta(E)        RMS(D)\n",
            " 0 -125.842077437699 -117.839710375888\n",
            " 1 -78.286583284740  -70.284216222929  47.555494152959 1.826673084479\n",
            " 2 -84.048316253435  -76.045949191625  -5.761732968696 0.479570364860\n",
            " 3 -82.716965960855  -74.714598899044   1.331350292581 0.086831688906\n",
            " 4 -82.987140757002  -74.984773695191  -0.270174796147 0.031026136359\n",
            " 5 -82.938133187513  -74.935766125703   0.049007569488 0.010799283179\n",
            " 6 -82.946271078699  -74.943904016889  -0.008137891186 0.005254826831\n",
            " 7 -82.944486784914  -74.942119723104   0.001784293785 0.002438579642\n",
            " 8 -82.944617252243  -74.942250190433  -0.000130467329 0.001177279531\n",
            " 9 -82.944503500703  -74.942136438892   0.000113751541 0.000564543180\n",
            "10 -82.944478930626  -74.942111868815   0.000024570077 0.000272204992\n",
            "11 -82.944461627685  -74.942094565874   0.000017302941 0.000131180309\n",
            "12 -82.944454198375  -74.942087136564   0.000007429310 0.000063275666\n",
            "13 -82.944450445051  -74.942083383241   0.000003753324 0.000030522547\n",
            "14 -82.944448661686  -74.942081599875   0.000001783365 0.000014725847\n",
            "15 -82.944447795931  -74.942080734120   0.000000865755 0.000007104836\n",
            "16 -82.944447379017  -74.942080317206   0.000000416914 0.000003428026\n",
            "17 -82.944447177685  -74.942080115875   0.000000201331 0.000001654014\n",
            "18 -82.944447080565  -74.942080018755   0.000000097120 0.000000798065\n",
            "19 -82.944447033699  -74.942079971888   0.000000046866 0.000000385069\n",
            "20 -82.944447011086  -74.942079949276   0.000000022613 0.000000185798\n",
            "21 -82.944447000175  -74.942079938365   0.000000010911 0.000000089648\n",
            "22 -82.944446994911  -74.942079933100   0.000000005265 0.000000043256\n",
            "23 -82.944446992371  -74.942079930560   0.000000002540 0.000000020871\n",
            "24 -82.944446991145  -74.942079929334   0.000000001226 0.000000010070\n",
            "25 -82.944446990554  -74.942079928743   0.000000000591 0.000000004859\n",
            "26 -82.944446990268  -74.942079928458   0.000000000285 0.000000002345\n",
            "27 -82.944446990131  -74.942079928320   0.000000000138 0.000000001131\n",
            "28 -82.944446990064  -74.942079928254   0.000000000067 0.000000000546\n",
            "29 -82.944446990032  -74.942079928222   0.000000000032 0.000000000263\n",
            "30 -82.944446990017  -74.942079928206   0.000000000015 0.000000000127\n",
            "31 -82.944446990009  -74.942079928199   0.000000000007 0.000000000061\n",
            "32 -82.944446990006  -74.942079928195   0.000000000004 0.000000000030\n",
            "33 -82.944446990004  -74.942079928193   0.000000000002 0.000000000014\n",
            "34 -82.944446990003  -74.942079928192   0.000000000001 0.000000000007\n"
          ]
        }
      ]
    }
  ]
}